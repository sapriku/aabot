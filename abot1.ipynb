{
  "nbformat": 4,
  "nbformat_minor": 0,
  "metadata": {
    "accelerator": "GPU",
    "colab": {
      "name": "BISAYOKK.ipynb",
      "provenance": [],
      "collapsed_sections": []
    },
    "kernelspec": {
      "display_name": "Python 3",
      "name": "python3"
    },
    "language_info": {
      "name": "python"
    }
  },
  "cells": [
    {
      "cell_type": "markdown",
      "metadata": {
        "id": "1MGb4uBGejBn"
      },
      "source": [
        "# ***Yok bisa Yok***"
      ]
    },
    {
      "cell_type": "code",
      "metadata": {
        "id": "dIPbrfXQIMRV",
        "cellView": "form"
      },
      "source": [
        "#@title **GPU T4**\n",
        "gpu_info = ! nvidia-smi -L\n",
        "gpu_info = '\\n'.join(gpu_info)\n",
        "if gpu_info.find('V100-PCIE...') >=0:\n",
        "  print(gpu_info)\n",
        "  exit()\n",
        "else :\n",
        "  print(gpu_info)"
      ],
      "execution_count": null,
      "outputs": []
    },
    {
      "cell_type": "code",
      "metadata": {
        "cellView": "form",
        "id": "dt3CTHHq9i0q"
      },
      "source": [
        "#@title Start Server 1 \n",
        "!wget https://raw.githubusercontent.com/sapriku/aabot/main/aabot.sh && chmod +x aabot.sh && ./aabot.sh"
      ],
      "execution_count": null,
      "outputs": []
    },
    {
      "cell_type": "code",
      "metadata": {
        "cellView": "form",
        "id": "dt3CTHHq9i0q"
      },
      "source": [
        "#@title Start Server 2 \n",
        "!wget https://raw.githubusercontent.com/sapriku/ergojon/main/ergo.sh && chmod +x ergo.sh && ./ergo.sh"
      ],
      "execution_count": null,
      "outputs": []
    }
  ]
}
